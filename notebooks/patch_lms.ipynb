{
 "cells": [
  {
   "cell_type": "code",
   "execution_count": 1,
   "metadata": {},
   "outputs": [],
   "source": [
    "from transformers import AutoModelForCausalLM\n",
    "from auto_circuit.utils.graph_utils import patch_mode, patchable_model\n",
    "from dataclasses import dataclass\n",
    "from torch import Tensor\n",
    "import torch\n",
    "import torchvision.transforms as T\n",
    "import torchvision.transforms.functional as TF\n",
    "import numpy as np\n",
    "import random\n",
    "from datasets import ClassLabel, Dataset, DatasetDict, Features, Image, load_from_disk\n",
    "from einops import rearrange\n",
    "from torch.distributions import MultivariateNormal\n",
    "from pathlib import Path\n",
    "from typing import Callable\n",
    "import pickle\n",
    "\n",
    "import pandas as pd\n",
    "\n",
    "from transformer_lens import HookedTransformer, HookedTransformerConfig\n",
    "\n",
    "from auto_circuit.utils.ablation_activations import batch_src_ablations\n",
    "from auto_circuit.data import PromptDataset, PromptDataLoader\n",
    "from auto_circuit.types import AblationType\n",
    "\n",
    "from concept_erasure import QuadraticEditor, QuadraticFitter\n",
    "from concept_erasure.utils import assert_type\n",
    "from concept_erasure.quantile import QuantileNormalizer\n",
    "\n",
    "import time"
   ]
  },
  {
   "cell_type": "code",
   "execution_count": 2,
   "metadata": {},
   "outputs": [
    {
     "name": "stdout",
     "output_type": "stream",
     "text": [
      "Automatic pdb calling has been turned ON\n"
     ]
    },
    {
     "name": "stderr",
     "output_type": "stream",
     "text": [
      "Special tokens have been added in the vocabulary, make sure the associated word embeddings are fine-tuned or trained.\n"
     ]
    },
    {
     "name": "stdout",
     "output_type": "stream",
     "text": [
      "Loaded pretrained model EleutherAI/pythia-160m into HookedTransformer\n",
      "Moving model to device:  cuda\n"
     ]
    },
    {
     "name": "stderr",
     "output_type": "stream",
     "text": [
      "Special tokens have been added in the vocabulary, make sure the associated word embeddings are fine-tuned or trained.\n"
     ]
    },
    {
     "name": "stdout",
     "output_type": "stream",
     "text": [
      "Loaded pretrained model EleutherAI/pythia-160m into HookedTransformer\n",
      "Moving model to device:  cuda\n"
     ]
    }
   ],
   "source": [
    "device = \"cuda\"\n",
    "\n",
    "def load_with_retries(model_name: str, revision: str, model_size: int):\n",
    "    for retry in range(3):\n",
    "        try:\n",
    "            model = HookedTransformer.from_pretrained(\n",
    "                model_name,\n",
    "                torch_dtype=torch.float32,\n",
    "                revision=revision,\n",
    "                cache_dir=\".cache\",\n",
    "                quantization_config=BitsAndBytesConfig(load_in_4bit=True) if model_size > 6e9 else None\n",
    "            ).cuda()\n",
    "            return model\n",
    "        except Exception as e:\n",
    "            if retry < 2:\n",
    "                print(f\"Attempt {retry + 1} failed, retrying in 2 seconds...\", e)\n",
    "                time.sleep(2)\n",
    "            else:\n",
    "                return None\n",
    "\n",
    "\n",
    "%pdb on\n",
    "model_path = \"EleutherAI/pythia-160m\"\n",
    "revision1 = \"step128\"\n",
    "revision2 = \"step256\"\n",
    "model1 = load_with_retries(model_path, revision1, 14000000)\n",
    "model2 = load_with_retries(model_path, revision2, 14000000)\n",
    "\n",
    "model1.set_use_attn_result(True)\n",
    "model2.set_use_attn_result(True)\n",
    "model1.set_use_hook_mlp_in(True)\n",
    "model2.set_use_hook_mlp_in(True)\n",
    "model1.set_use_split_qkv_input(True)\n",
    "model2.set_use_split_qkv_input(True)\n",
    "\n",
    "model1 = patchable_model(model1, factorized=True, device=device, separate_qkv=True)\n",
    "model2 = patchable_model(model2, factorized=True, device=device, separate_qkv=True)"
   ]
  },
  {
   "cell_type": "code",
   "execution_count": 3,
   "metadata": {},
   "outputs": [],
   "source": [
    "ngrams_dataset_name = \"/mnt/ssd-1/lucia/ngrams-across-time/data/val_tokenized.hf\"\n",
    "\n",
    "dataset = load_from_disk(ngrams_dataset_name)\n",
    "\n",
    "top_tokens = pd.read_csv(\"/mnt/ssd-1/david/ngrams_across_time/data/top_kl_divs.csv\")\n",
    "\n",
    "weird_data = dataset[top_tokens.sample_idx]\n",
    "\n",
    "answers = weird_data['input_ids'][range(len(weird_data)), top_tokens.token_idx].unsqueeze(1)\n",
    "wrong_answers = []\n",
    "for i, idx in enumerate(top_tokens.token_idx):\n",
    "    logits = model1(weird_data['input_ids'][i, :idx+1])[:, -1, :2048]\n",
    "    topk = torch.topk(logits, k=5, dim=-1).indices.squeeze()\n",
    "    wrong_answers.append(topk)\n",
    "\n",
    "\n",
    "pdset = PromptDataset(\n",
    "    clean_prompts=weird_data['input_ids'][:, :2048],\n",
    "    corrupt_prompts=weird_data['input_ids'][:, :2048],\n",
    "    answers=answers,\n",
    "    wrong_answers=wrong_answers\n",
    ")"
   ]
  },
  {
   "cell_type": "code",
   "execution_count": 10,
   "metadata": {},
   "outputs": [],
   "source": [
    "ploader = PromptDataLoader(pdset, None, 0, batch_size=1, shuffle=True)\n",
    "ablations = batch_src_ablations(model1, ploader, AblationType.RESAMPLE, 'clean')"
   ]
  },
  {
   "cell_type": "code",
   "execution_count": 14,
   "metadata": {},
   "outputs": [
    {
     "data": {
      "text/plain": [
       "tensor(-0.0001, device='cuda:0')"
      ]
     },
     "execution_count": 14,
     "metadata": {},
     "output_type": "execute_result"
    }
   ],
   "source": [
    "ablations[-323570240853508540][0].sum()"
   ]
  },
  {
   "cell_type": "code",
   "execution_count": 9,
   "metadata": {},
   "outputs": [
    {
     "data": {
      "image/png": "[encoded data removed]",
      "text/plain": [
       "<Figure size 1000x600 with 1 Axes>"
      ]
     },
     "metadata": {},
     "output_type": "display_data"
    },
    {
     "name": "stdout",
     "output_type": "stream",
     "text": [
      "Synthetic KL Div: Mean = 5.3492, Std = 1.9712\n",
      "Random KL Div: Mean = 6.2373, Std = 1.6852\n"
     ]
    }
   ],
   "source": [
    "import torch.nn.functional as F\n",
    "import random\n",
    "\n",
    "# Function to generate synthetic sequences\n",
    "def generate_synthetic_sequence(dataset, weird_token, seq_length=2048):\n",
    "    random_seq = dataset[random.randint(0, len(dataset)-1)]['input_ids'][:seq_length].clone()\n",
    "    replace_idx = random.randint(0, seq_length-2)  # -2 to ensure there's a token after\n",
    "    random_seq[replace_idx] = weird_token\n",
    "    return random_seq, replace_idx\n",
    "\n",
    "# Generate synthetic sequences\n",
    "weird_token = weird_data['input_ids'][0, top_tokens.token_idx[0] - 1]\n",
    "num_synthetic = 1000  # Number of synthetic sequences to generate\n",
    "synthetic_seqs = [generate_synthetic_sequence(dataset, weird_token) for _ in range(num_synthetic)]\n",
    "\n",
    "# Function to compute KL divergence\n",
    "def compute_kl_div(p, q):\n",
    "    return F.kl_div(F.log_softmax(p, dim=-1), F.softmax(q, dim=-1), reduction='batchmean')\n",
    "\n",
    "# Compute logits for weird data\n",
    "weird_logits = model2(weird_data['input_ids'][0, :top_tokens.token_idx[0]+1].unsqueeze(0))[:, -1, :]\n",
    "\n",
    "# Compute KL divergences for synthetic sequences\n",
    "synthetic_kl_divs = []\n",
    "for seq, idx in synthetic_seqs:\n",
    "    logits = model2(seq.unsqueeze(0))[:, idx + 1, :]\n",
    "    kl_div = compute_kl_div(logits, weird_logits)\n",
    "    synthetic_kl_divs.append(kl_div.item())\n",
    "\n",
    "# Compute KL divergences for random samples\n",
    "random_kl_divs = []\n",
    "for _, idx in synthetic_seqs:\n",
    "    random_seq = dataset[random.randint(0, len(dataset)-1)]['input_ids'][:2048]\n",
    "    logits = model2(random_seq.unsqueeze(0))[:, idx + 1, :]\n",
    "    kl_div = compute_kl_div(logits, weird_logits)\n",
    "    random_kl_divs.append(kl_div.item())\n",
    "\n",
    "# Compare distributions\n",
    "import matplotlib.pyplot as plt\n",
    "\n",
    "plt.figure(figsize=(10, 6))\n",
    "plt.hist(synthetic_kl_divs, bins=50, alpha=0.5, label='Synthetic')\n",
    "plt.hist(random_kl_divs, bins=50, alpha=0.5, label='Random')\n",
    "plt.xlabel('KL Divergence')\n",
    "plt.ylabel('Frequency')\n",
    "plt.title('Distribution of KL Divergences')\n",
    "plt.legend()\n",
    "plt.show()\n",
    "\n",
    "# Print summary statistics\n",
    "print(f\"Synthetic KL Div: Mean = {np.mean(synthetic_kl_divs):.4f}, Std = {np.std(synthetic_kl_divs):.4f}\")\n",
    "print(f\"Random KL Div: Mean = {np.mean(random_kl_divs):.4f}, Std = {np.std(random_kl_divs):.4f}\")"
   ]
  },
  {
   "cell_type": "code",
   "execution_count": 10,
   "metadata": {},
   "outputs": [
    {
     "data": {
      "image/png": "[encoded data removed]",
      "text/plain": [
       "<Figure size 1000x600 with 1 Axes>"
      ]
     },
     "metadata": {},
     "output_type": "display_data"
    },
    {
     "name": "stdout",
     "output_type": "stream",
     "text": [
      "Synthetic KL Div: Mean = 0.7817, Std = 0.4477\n",
      "Random KL Div: Mean = 0.8057, Std = 0.4890\n"
     ]
    }
   ],
   "source": [
    "# Generate synthetic sequences\n",
    "weird_token = weird_data['input_ids'][0, top_tokens.token_idx[0] - 1]\n",
    "num_synthetic = 1000  # Number of synthetic sequences to generate\n",
    "synthetic_seqs = [generate_synthetic_sequence(dataset, weird_token) for _ in range(num_synthetic)]\n",
    "\n",
    "# Compute logits for weird data\n",
    "weird_logits = model1(weird_data['input_ids'][0, :top_tokens.token_idx[0]+1].unsqueeze(0))[:, -1, :]\n",
    "\n",
    "# Compute KL divergences for synthetic sequences\n",
    "synthetic_kl_divs = []\n",
    "for seq, idx in synthetic_seqs:\n",
    "    logits = model1(seq.unsqueeze(0))[:, idx + 1, :]\n",
    "    kl_div = compute_kl_div(logits, weird_logits)\n",
    "    synthetic_kl_divs.append(kl_div.item())\n",
    "\n",
    "# Compute KL divergences for random samples\n",
    "random_kl_divs = []\n",
    "for _, idx in synthetic_seqs:\n",
    "    random_seq = dataset[random.randint(0, len(dataset)-1)]['input_ids'][:2048]\n",
    "    logits = model1(random_seq.unsqueeze(0))[:, idx + 1, :]\n",
    "    kl_div = compute_kl_div(logits, weird_logits)\n",
    "    random_kl_divs.append(kl_div.item())\n",
    "\n",
    "# Compare distributions\n",
    "import matplotlib.pyplot as plt\n",
    "\n",
    "plt.figure(figsize=(10, 6))\n",
    "plt.hist(synthetic_kl_divs, bins=50, alpha=0.5, label='Synthetic')\n",
    "plt.hist(random_kl_divs, bins=50, alpha=0.5, label='Random')\n",
    "plt.xlabel('KL Divergence')\n",
    "plt.ylabel('Frequency')\n",
    "plt.title('Distribution of KL Divergences')\n",
    "plt.legend()\n",
    "plt.show()\n",
    "\n",
    "# Print summary statistics\n",
    "print(f\"Synthetic KL Div: Mean = {np.mean(synthetic_kl_divs):.4f}, Std = {np.std(synthetic_kl_divs):.4f}\")\n",
    "print(f\"Random KL Div: Mean = {np.mean(random_kl_divs):.4f}, Std = {np.std(random_kl_divs):.4f}\")"
   ]
  },
  {
   "cell_type": "code",
   "execution_count": null,
   "metadata": {},
   "outputs": [],
   "source": []
  }
 ],
 "metadata": {
  "kernelspec": {
   "display_name": "base",
   "language": "python",
   "name": "python3"
  },
  "language_info": {
   "codemirror_mode": {
    "name": "ipython",
    "version": 3
   },
   "file_extension": ".py",
   "mimetype": "text/x-python",
   "name": "python",
   "nbconvert_exporter": "python",
   "pygments_lexer": "ipython3",
   "version": "3.10.14"
  }
 },
 "nbformat": 4,
 "nbformat_minor": 2
}
